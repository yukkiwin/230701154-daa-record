{
  "cells": [
    {
      "cell_type": "markdown",
      "metadata": {
        "id": "view-in-github",
        "colab_type": "text"
      },
      "source": [
        "<a href=\"https://colab.research.google.com/github/yukkiwin/230701154-daa-record/blob/main/Train_YOLO_Models.ipynb\" target=\"_parent\"><img src=\"https://colab.research.google.com/assets/colab-badge.svg\" alt=\"Open In Colab\"/></a>"
      ]
    },
    {
      "cell_type": "markdown",
      "metadata": {
        "id": "1sUfcA8ZgR2t"
      },
      "source": [
        "# Train YOLO Models in Google Colab\n",
        "**Author:** Evan Juras, [EJ Technology Consultants](https://ejtech.io)\n",
        "\n",
        "**Last updated:** January 3, 2025\n",
        "\n",
        "**GitHub:** [Train and Deploy YOLO Models](https://github.com/EdjeElectronics/Train-and-Deploy-YOLO-Models)\n",
        "\n",
        "# Introduction\n",
        "\n",
        "This notebook uses [Ultralytics](https://docs.ultralytics.com/) to train YOLO11, YOLOv8, or YOLOv5 object detection models with a custom dataset. At the end of this Colab, you'll have a custom YOLO model that you can run on your PC, phone, or edge device like the Raspberry Pi.\n",
        "\n",
        "<p align=center>\n",
        "<img src=\"https://s3.us-west-1.amazonaws.com/evanjuras.com/img/yolo-model-demo.gif\" height=\"360\"><br>\n",
        "<i>Custom YOLO candy detection model in action!</i>\n",
        "</p>\n",
        "\n",
        "I created a YouTube video that walks through this guide step by step. I recommend following along with the video while working through this notebook.\n",
        "\n",
        "<p align=center>\n",
        "<a href=\"https://youtu.be/r0RspiLG260\" target=\"_blank\"><img src=\"https://raw.githubusercontent.com/EdjeElectronics/Train-and-Deploy-YOLO-Models/refs/heads/main/doc/Train_YOLO_Thumbnail2.png\" height=\"240\"><br>\n",
        "<i>Click here to go to the video!</i></a>\n",
        "</p>\n",
        "\n",
        "**Important note: This notebook will be continuously updated to make sure it works with newer versions of Ultralytics and YOLO. If you see any differences between the YouTube video and this notebook, always follow the notebook!**\n",
        "\n",
        "### Working in Colab\n",
        "Colab provides a virtual machine in your browser complete with a Linux OS, filesystem, Python environment, and best of all, a free GPU. We'll install PyTorch and Ultralytics in this environment and use it to train our model. Simply click the Play button on sections of code in this notebook to execute them on the virtual machine.\n",
        "\n",
        "### Navigation\n",
        "To navigate this notebook, use the table of contents in the left sidebar to jump from section to section.\n",
        "\n",
        "\n",
        "\n"
      ]
    },
    {
      "cell_type": "markdown",
      "source": [
        "**Verify NVIDIA GPU Availability**\n",
        "\n",
        "Make sure you're using a GPU-equipped machine by going to \"Runtime\" -> \"Change runtime type\" in the top menu bar, and then selecting one of the GPU options in the Hardware accelerator section. Click Play on the following code block to verify that the NVIDIA GPU is present and ready for training."
      ],
      "metadata": {
        "id": "3NW7LLv_QPOO"
      }
    },
    {
      "cell_type": "code",
      "source": [
        "!nvidia-smi"
      ],
      "metadata": {
        "id": "cfaWho47RGDf",
        "outputId": "f2f5bcda-e65e-4085-8d35-f5b964d71de6",
        "colab": {
          "base_uri": "https://localhost:8080/"
        }
      },
      "execution_count": 26,
      "outputs": [
        {
          "output_type": "stream",
          "name": "stdout",
          "text": [
            "Mon Jun 30 05:36:16 2025       \n",
            "+-----------------------------------------------------------------------------------------+\n",
            "| NVIDIA-SMI 550.54.15              Driver Version: 550.54.15      CUDA Version: 12.4     |\n",
            "|-----------------------------------------+------------------------+----------------------+\n",
            "| GPU  Name                 Persistence-M | Bus-Id          Disp.A | Volatile Uncorr. ECC |\n",
            "| Fan  Temp   Perf          Pwr:Usage/Cap |           Memory-Usage | GPU-Util  Compute M. |\n",
            "|                                         |                        |               MIG M. |\n",
            "|=========================================+========================+======================|\n",
            "|   0  Tesla T4                       Off |   00000000:00:04.0 Off |                    0 |\n",
            "| N/A   38C    P8              9W /   70W |       0MiB /  15360MiB |      0%      Default |\n",
            "|                                         |                        |                  N/A |\n",
            "+-----------------------------------------+------------------------+----------------------+\n",
            "                                                                                         \n",
            "+-----------------------------------------------------------------------------------------+\n",
            "| Processes:                                                                              |\n",
            "|  GPU   GI   CI        PID   Type   Process name                              GPU Memory |\n",
            "|        ID   ID                                                               Usage      |\n",
            "|=========================================================================================|\n",
            "|  No running processes found                                                             |\n",
            "+-----------------------------------------------------------------------------------------+\n"
          ]
        }
      ]
    },
    {
      "cell_type": "markdown",
      "metadata": {
        "id": "TIHu25pnjjJ1"
      },
      "source": [
        "#1.&nbsp;Gather and Label Training Images"
      ]
    },
    {
      "cell_type": "markdown",
      "metadata": {
        "id": "O6Y1vBiRjpcq"
      },
      "source": [
        "Before we start training, we need to gather and label images that will be used for training the object detection model. A good starting point for a proof-of-concept model is 200 images. The training images should have random objects in the image along with the desired objects, and should have a variety of backgrounds and lighting conditions.\n",
        "\n",
        "There are a couple options for gathering images:\n",
        "\n",
        "\n",
        "*   Build a custom dataset by taking your own pictures of the objects and labeling them (this typically results in the best performance)\n",
        "*   Find a pre-made dataset from sources like [Roboflow Universe](), [Kaggle](), or [Google Images V7]()\n",
        "\n",
        "\n",
        "If you want to build your own dataset, there are several tools available for labeling images. One good option is [Label Studio](https://labelstud.io/?utm_source=youtube&utm_medium=video&utm_campaign=edjeelectronics), a free and open-source labeling tool that has a simple workflow while providing capabilities for more advanced features. My YouTube video that walks through this notebook (link to be added soon) shows how to label images with Label Studio.\n",
        "\n",
        "<p align=center>\n",
        "<img src=\"https://raw.githubusercontent.com/EdjeElectronics/Train-and-Deploy-YOLO-Models/refs/heads/main/doc/label-studio-example.PNG\" height=\"380\"><br>\n",
        "<i>Example of a candy image labeled with Label Studio.</i>\n",
        "</p>\n",
        "\n",
        "If you used Label Studio to label and export the images, they'll be exported in a `project.zip` file that contains the following:\n",
        "\n",
        "- An `images` folder containing the images\n",
        "- A `labels` folder containing the labels in YOLO annotation format\n",
        "- A `classes.txt` labelmap file that contains all the classes\n",
        "- A `notes.json` file that contains info specific to Label Studio (this file can be ignored)\n",
        "\n",
        "If you obtained your dataset from another source (like Roboflow Universe) or used another tool to label your dataset, make sure the files are organized in the same folder structure.\n",
        "\n",
        "<p align=center>\n",
        "<img src=\"https://raw.githubusercontent.com/EdjeElectronics/Train-and-Deploy-YOLO-Models/refs/heads/main/doc/zipped-data-example.png\" height=\"\"><br>\n",
        "<i>Organize your data in the folders shown here. See my <a href=\"https://s3.us-west-1.amazonaws.com/evanjuras.com/resources/candy_data_06JAN25.zip\">Candy Detection Dataset</a> for an example.</i>\n",
        "</p>\n",
        "\n",
        "Once you've got your dataset built, put into the file structure shown above, and zipped into `data.zip`, you're ready to move on to the next step."
      ]
    },
    {
      "cell_type": "markdown",
      "metadata": {
        "id": "8eDhuvzDfIFS"
      },
      "source": [
        "# 2.&nbsp;Upload Image Dataset and Prepare Training Data"
      ]
    },
    {
      "cell_type": "markdown",
      "metadata": {
        "id": "ZW_0c110fOiz"
      },
      "source": [
        "Next, we'll upload our dataset and prepare it for training with YOLO. We'll split the dataset into train and validation folders, and we'll automatically generate the configuration file for training the model."
      ]
    },
    {
      "cell_type": "markdown",
      "source": [
        "## 2.1 Upload images\n",
        "\n",
        "First, we need to upload the dataset to Colab. Here are a few options for moving the `data.zip` folder into this Colab instance."
      ],
      "metadata": {
        "id": "FwKAqFIQSBpn"
      }
    },
    {
      "cell_type": "markdown",
      "source": [
        "**Option 1. Upload through Google Colab**\n",
        "\n",
        "Upload the `data.zip` file to the Google Colab instance by clicking the \"Files\" icon on the left hand side of the browser, and then the \"Upload to session storage\" icon. Select the zip folder to upload it.\n",
        "\n",
        "<p>\n",
        "<br>\n",
        "<img src=\"https://raw.githubusercontent.com/EdjeElectronics/Train-and-Deploy-YOLO-Models/refs/heads/main/doc/upload-colab-files.png\" height=\"240\">\n",
        "</p>\n"
      ],
      "metadata": {
        "id": "ZPZEM27IOh79"
      }
    },
    {
      "cell_type": "markdown",
      "source": [
        "\n",
        "**Option 2. Copy from Google Drive**\n",
        "\n",
        "You can also upload your images to your personal Google Drive, mount the drive on this Colab session, and copy them over to the Colab filesystem. This option works well if you want to upload the images beforehand so you don't have to wait for them to upload each time you restart this Colab. If you have more than 50MB worth of images, I recommend using this option.\n",
        "\n",
        "First, upload the `data.zip` file to your Google Drive, and make note of the folder you uploaded them to. Replace `MyDrive/path/to/data.zip` with the path to your zip file. (For example, I uploaded the zip file to folder called \"candy-dataset1\", so I would use `MyDrive/candy-dataset1/data.zip` for the path). Then, run the following block of code to mount your Google Drive to this Colab session and copy the folder to this filesystem."
      ],
      "metadata": {
        "id": "TC4bZM1UWRdY"
      }
    },
    {
      "cell_type": "code",
      "source": [
        "from google.colab import drive\n",
        "drive.mount('/content/gdrive')\n",
        "\n",
        "!cp /content/gdrive/MyDrive/path/to/data.zip /content"
      ],
      "metadata": {
        "id": "ZfQBSwDdWoWp",
        "outputId": "ee911132-c681-4ef3-c255-e4973b117951",
        "colab": {
          "base_uri": "https://localhost:8080/",
          "height": 356
        }
      },
      "execution_count": 27,
      "outputs": [
        {
          "output_type": "error",
          "ename": "MessageError",
          "evalue": "Error: credential propagation was unsuccessful",
          "traceback": [
            "\u001b[0;31m---------------------------------------------------------------------------\u001b[0m",
            "\u001b[0;31mMessageError\u001b[0m                              Traceback (most recent call last)",
            "\u001b[0;32m/tmp/ipython-input-27-2821402137.py\u001b[0m in \u001b[0;36m<cell line: 0>\u001b[0;34m()\u001b[0m\n\u001b[1;32m      1\u001b[0m \u001b[0;32mfrom\u001b[0m \u001b[0mgoogle\u001b[0m\u001b[0;34m.\u001b[0m\u001b[0mcolab\u001b[0m \u001b[0;32mimport\u001b[0m \u001b[0mdrive\u001b[0m\u001b[0;34m\u001b[0m\u001b[0;34m\u001b[0m\u001b[0m\n\u001b[0;32m----> 2\u001b[0;31m \u001b[0mdrive\u001b[0m\u001b[0;34m.\u001b[0m\u001b[0mmount\u001b[0m\u001b[0;34m(\u001b[0m\u001b[0;34m'/content/gdrive'\u001b[0m\u001b[0;34m)\u001b[0m\u001b[0;34m\u001b[0m\u001b[0;34m\u001b[0m\u001b[0m\n\u001b[0m\u001b[1;32m      3\u001b[0m \u001b[0;34m\u001b[0m\u001b[0m\n\u001b[1;32m      4\u001b[0m \u001b[0mget_ipython\u001b[0m\u001b[0;34m(\u001b[0m\u001b[0;34m)\u001b[0m\u001b[0;34m.\u001b[0m\u001b[0msystem\u001b[0m\u001b[0;34m(\u001b[0m\u001b[0;34m'cp /content/gdrive/MyDrive/path/to/data.zip /content'\u001b[0m\u001b[0;34m)\u001b[0m\u001b[0;34m\u001b[0m\u001b[0;34m\u001b[0m\u001b[0m\n",
            "\u001b[0;32m/usr/local/lib/python3.11/dist-packages/google/colab/drive.py\u001b[0m in \u001b[0;36mmount\u001b[0;34m(mountpoint, force_remount, timeout_ms, readonly)\u001b[0m\n\u001b[1;32m     98\u001b[0m \u001b[0;32mdef\u001b[0m \u001b[0mmount\u001b[0m\u001b[0;34m(\u001b[0m\u001b[0mmountpoint\u001b[0m\u001b[0;34m,\u001b[0m \u001b[0mforce_remount\u001b[0m\u001b[0;34m=\u001b[0m\u001b[0;32mFalse\u001b[0m\u001b[0;34m,\u001b[0m \u001b[0mtimeout_ms\u001b[0m\u001b[0;34m=\u001b[0m\u001b[0;36m120000\u001b[0m\u001b[0;34m,\u001b[0m \u001b[0mreadonly\u001b[0m\u001b[0;34m=\u001b[0m\u001b[0;32mFalse\u001b[0m\u001b[0;34m)\u001b[0m\u001b[0;34m:\u001b[0m\u001b[0;34m\u001b[0m\u001b[0;34m\u001b[0m\u001b[0m\n\u001b[1;32m     99\u001b[0m   \u001b[0;34m\"\"\"Mount your Google Drive at the specified mountpoint path.\"\"\"\u001b[0m\u001b[0;34m\u001b[0m\u001b[0;34m\u001b[0m\u001b[0m\n\u001b[0;32m--> 100\u001b[0;31m   return _mount(\n\u001b[0m\u001b[1;32m    101\u001b[0m       \u001b[0mmountpoint\u001b[0m\u001b[0;34m,\u001b[0m\u001b[0;34m\u001b[0m\u001b[0;34m\u001b[0m\u001b[0m\n\u001b[1;32m    102\u001b[0m       \u001b[0mforce_remount\u001b[0m\u001b[0;34m=\u001b[0m\u001b[0mforce_remount\u001b[0m\u001b[0;34m,\u001b[0m\u001b[0;34m\u001b[0m\u001b[0;34m\u001b[0m\u001b[0m\n",
            "\u001b[0;32m/usr/local/lib/python3.11/dist-packages/google/colab/drive.py\u001b[0m in \u001b[0;36m_mount\u001b[0;34m(mountpoint, force_remount, timeout_ms, ephemeral, readonly)\u001b[0m\n\u001b[1;32m    135\u001b[0m   )\n\u001b[1;32m    136\u001b[0m   \u001b[0;32mif\u001b[0m \u001b[0mephemeral\u001b[0m\u001b[0;34m:\u001b[0m\u001b[0;34m\u001b[0m\u001b[0;34m\u001b[0m\u001b[0m\n\u001b[0;32m--> 137\u001b[0;31m     _message.blocking_request(\n\u001b[0m\u001b[1;32m    138\u001b[0m         \u001b[0;34m'request_auth'\u001b[0m\u001b[0;34m,\u001b[0m\u001b[0;34m\u001b[0m\u001b[0;34m\u001b[0m\u001b[0m\n\u001b[1;32m    139\u001b[0m         \u001b[0mrequest\u001b[0m\u001b[0;34m=\u001b[0m\u001b[0;34m{\u001b[0m\u001b[0;34m'authType'\u001b[0m\u001b[0;34m:\u001b[0m \u001b[0;34m'dfs_ephemeral'\u001b[0m\u001b[0;34m}\u001b[0m\u001b[0;34m,\u001b[0m\u001b[0;34m\u001b[0m\u001b[0;34m\u001b[0m\u001b[0m\n",
            "\u001b[0;32m/usr/local/lib/python3.11/dist-packages/google/colab/_message.py\u001b[0m in \u001b[0;36mblocking_request\u001b[0;34m(request_type, request, timeout_sec, parent)\u001b[0m\n\u001b[1;32m    174\u001b[0m       \u001b[0mrequest_type\u001b[0m\u001b[0;34m,\u001b[0m \u001b[0mrequest\u001b[0m\u001b[0;34m,\u001b[0m \u001b[0mparent\u001b[0m\u001b[0;34m=\u001b[0m\u001b[0mparent\u001b[0m\u001b[0;34m,\u001b[0m \u001b[0mexpect_reply\u001b[0m\u001b[0;34m=\u001b[0m\u001b[0;32mTrue\u001b[0m\u001b[0;34m\u001b[0m\u001b[0;34m\u001b[0m\u001b[0m\n\u001b[1;32m    175\u001b[0m   )\n\u001b[0;32m--> 176\u001b[0;31m   \u001b[0;32mreturn\u001b[0m \u001b[0mread_reply_from_input\u001b[0m\u001b[0;34m(\u001b[0m\u001b[0mrequest_id\u001b[0m\u001b[0;34m,\u001b[0m \u001b[0mtimeout_sec\u001b[0m\u001b[0;34m)\u001b[0m\u001b[0;34m\u001b[0m\u001b[0;34m\u001b[0m\u001b[0m\n\u001b[0m",
            "\u001b[0;32m/usr/local/lib/python3.11/dist-packages/google/colab/_message.py\u001b[0m in \u001b[0;36mread_reply_from_input\u001b[0;34m(message_id, timeout_sec)\u001b[0m\n\u001b[1;32m    101\u001b[0m     ):\n\u001b[1;32m    102\u001b[0m       \u001b[0;32mif\u001b[0m \u001b[0;34m'error'\u001b[0m \u001b[0;32min\u001b[0m \u001b[0mreply\u001b[0m\u001b[0;34m:\u001b[0m\u001b[0;34m\u001b[0m\u001b[0;34m\u001b[0m\u001b[0m\n\u001b[0;32m--> 103\u001b[0;31m         \u001b[0;32mraise\u001b[0m \u001b[0mMessageError\u001b[0m\u001b[0;34m(\u001b[0m\u001b[0mreply\u001b[0m\u001b[0;34m[\u001b[0m\u001b[0;34m'error'\u001b[0m\u001b[0;34m]\u001b[0m\u001b[0;34m)\u001b[0m\u001b[0;34m\u001b[0m\u001b[0;34m\u001b[0m\u001b[0m\n\u001b[0m\u001b[1;32m    104\u001b[0m       \u001b[0;32mreturn\u001b[0m \u001b[0mreply\u001b[0m\u001b[0;34m.\u001b[0m\u001b[0mget\u001b[0m\u001b[0;34m(\u001b[0m\u001b[0;34m'data'\u001b[0m\u001b[0;34m,\u001b[0m \u001b[0;32mNone\u001b[0m\u001b[0;34m)\u001b[0m\u001b[0;34m\u001b[0m\u001b[0;34m\u001b[0m\u001b[0m\n\u001b[1;32m    105\u001b[0m \u001b[0;34m\u001b[0m\u001b[0m\n",
            "\u001b[0;31mMessageError\u001b[0m: Error: credential propagation was unsuccessful"
          ]
        }
      ]
    },
    {
      "cell_type": "markdown",
      "source": [
        "**Option 3. Use my candy detection or coin detection dataset**\n",
        "\n",
        "If you just want to test the process on a pre-made dataset, you can use one of my datasets:\n",
        "\n",
        "*   [Candy image dataset](https://s3.us-west-1.amazonaws.com/evanjuras.com/resources/candy_data_14DEC24.zip), which contains 162 pictures of popular candies (Skittles, Snickers, etc)\n",
        "*   [Coin image dataset](https://s3.us-west-1.amazonaws.com/evanjuras.com/resources/YOLO_coin_data_12DEC30.zip), which contains 750 pictures of US coins (pennies, dimes, nickels, and quarters)\n",
        "\n",
        "Download one of the datasets by running the following code block. I'll use the candy detection dataset as the example for the rest of the notebook."
      ],
      "metadata": {
        "id": "q43_b9-sWsdB"
      }
    },
    {
      "cell_type": "code",
      "execution_count": null,
      "metadata": {
        "id": "ZQXLBvL5grDl"
      },
      "outputs": [],
      "source": [
        "# To use my one of pre-made dataset instead of your own custom dataset, download it here (control which dataset is downloaded by commenting out either line)\n",
        "!wget -O /content/data.zip https://s3.us-west-1.amazonaws.com/evanjuras.com/resources/candy_data_06JAN25.zip # Candy dataset\n",
        "#!wget -O /content/data.zip https://s3.us-west-1.amazonaws.com/evanjuras.com/resources/YOLO_coin_data_12DEC30.zip # Coin dataset"
      ]
    },
    {
      "cell_type": "markdown",
      "source": [
        "## 2.2 Split images into train and validation folders"
      ],
      "metadata": {
        "id": "m7Iz9eBzW5zm"
      }
    },
    {
      "cell_type": "markdown",
      "source": [
        "At this point, whether you used Option 1, 2, or 3, you should be able to click the folder icon on the left and see your `data.zip` file in the list of files. Next, we'll unzip `data.zip` and create some folders to hold the images. Run the following code block to unzip the data."
      ],
      "metadata": {
        "id": "58JuFGc2PatU"
      }
    },
    {
      "cell_type": "code",
      "execution_count": 28,
      "metadata": {
        "id": "z8O6z-wVcPEF",
        "outputId": "ae72df94-f40d-4946-da6b-4f57ed6e22ad",
        "colab": {
          "base_uri": "https://localhost:8080/"
        }
      },
      "outputs": [
        {
          "output_type": "stream",
          "name": "stdout",
          "text": [
            "replace /content/custom_data/labels/0452986f-frame871_jpg.rf.aabffd766135c937d38589a633d4bc35.txt? [y]es, [n]o, [A]ll, [N]one, [r]ename: y\n",
            "replace /content/custom_data/labels/04897376-frame972_jpg.rf.487aa5313b4903ce0d886782cee11a8d.txt? [y]es, [n]o, [A]ll, [N]one, [r]ename: y\n",
            "replace /content/custom_data/labels/0b4bb848-frame975_jpg.rf.3bf9d25e70bd8fbd1dfc24746a12c126.txt? [y]es, [n]o, [A]ll, [N]one, [r]ename: y\n",
            "replace /content/custom_data/labels/0c91c00c-frame983_jpg.rf.2df35e4e90da59653edd2184639e9334.txt? [y]es, [n]o, [A]ll, [N]one, [r]ename: y\n",
            "replace /content/custom_data/labels/11bb358b-frame867_jpg.rf.0d770b6890b408b2ef7fb36fc8be0f35.txt? [y]es, [n]o, [A]ll, [N]one, [r]ename: y\n",
            "replace /content/custom_data/labels/155e51be-frame864_jpg.rf.7f343bca4568d0a3efe146adec9ae3f6.txt? [y]es, [n]o, [A]ll, [N]one, [r]ename: a\n",
            "error:  invalid response [a]\n",
            "replace /content/custom_data/labels/155e51be-frame864_jpg.rf.7f343bca4568d0a3efe146adec9ae3f6.txt? [y]es, [n]o, [A]ll, [N]one, [r]ename: y\n",
            "replace /content/custom_data/labels/187789d0-frame991_jpg.rf.74fb150bf81061407ffe1fa8d71e37b4.txt? [y]es, [n]o, [A]ll, [N]one, [r]ename: y\n",
            "replace /content/custom_data/labels/187c1d81-frame992_jpg.rf.c64a34167c54569a45bad67ebee24525.txt? [y]es, [n]o, [A]ll, [N]one, [r]ename: y\n",
            "replace /content/custom_data/labels/19cb6bd2-frame9_jpg.rf.a2316470f5c67b7041f91ca6f4263272.txt? [y]es, [n]o, [A]ll, [N]one, [r]ename: y\n",
            "replace /content/custom_data/labels/1e1bed50-frame864_jpg.rf.4347ac766ddccb761285e8b4ab92f1a9.txt? [y]es, [n]o, [A]ll, [N]one, [r]ename: y\n",
            "replace /content/custom_data/labels/1f452887-frame999_jpg.rf.de0e095f93e21affb08ceafbcd5ae770.txt? [y]es, [n]o, [A]ll, [N]one, [r]ename: y\n",
            "replace /content/custom_data/labels/1f7230d5-Sample3_jpg.rf.66afbc93141d4921907455754a8bb313.txt? [y]es, [n]o, [A]ll, [N]one, [r]ename: y\n",
            "replace /content/custom_data/labels/2247cdff-frame976_jpg.rf.3a0c65154d866a1974514eee743b8136.txt? [y]es, [n]o, [A]ll, [N]one, [r]ename: y\n",
            "replace /content/custom_data/labels/2820e3a7-frame980_jpg.rf.9193617fc4191232b135ccf97bbb9677.txt? [y]es, [n]o, [A]ll, [N]one, [r]ename: y\n",
            "replace /content/custom_data/labels/2ac487c1-frame981_jpg.rf.ea4c144390863bfa993dd7381c6223bf.txt? [y]es, [n]o, [A]ll, [N]one, [r]ename: \n",
            "error:  invalid response [{ENTER}]\n",
            "replace /content/custom_data/labels/2ac487c1-frame981_jpg.rf.ea4c144390863bfa993dd7381c6223bf.txt? [y]es, [n]o, [A]ll, [N]one, [r]ename: yy\n",
            "replace /content/custom_data/labels/2c62c403-frame875_jpg.rf.8c5abc0e68c8818ff2921c7c2a47ffbf.txt? [y]es, [n]o, [A]ll, [N]one, [r]ename: y\n",
            "replace /content/custom_data/labels/2d957993-frame997_jpg.rf.7612eacd6412be72b744db7ff8ec0e07.txt? [y]es, [n]o, [A]ll, [N]one, [r]ename: y\n",
            "replace /content/custom_data/labels/31144b4b-frame869_jpg.rf.931fafd746e4ee4bb6bf38e966d9550e.txt? [y]es, [n]o, [A]ll, [N]one, [r]ename: y\n",
            "replace /content/custom_data/labels/31834068-frame987_jpg.rf.198485ce16eb6e19e4bb4d60892f3aaa.txt? [y]es, [n]o, [A]ll, [N]one, [r]ename: y\n",
            "replace /content/custom_data/labels/33ea8fc3-frame970_jpg.rf.8bfb02c4fdeeb4e6b1899e64d31bf09c.txt? [y]es, [n]o, [A]ll, [N]one, [r]ename: y\n",
            "replace /content/custom_data/labels/349fbd69-Sample5_jpg.rf.3c51ebae20d569821a405e293a6710ea.txt? [y]es, [n]o, [A]ll, [N]one, [r]ename: y\n",
            "replace /content/custom_data/labels/35e988a2-frame977_jpg.rf.84930ff9fb8286ea9475c06f327e5fa1.txt? [y]es, [n]o, [A]ll, [N]one, [r]ename: y\n",
            "replace /content/custom_data/labels/35f82b4b-frame873_jpg.rf.8cf49768f25ecb4bb5b0220c02ab1068.txt? [y]es, [n]o, [A]ll, [N]one, [r]ename: y\n",
            "replace /content/custom_data/labels/3903bc71-frame874_jpg.rf.c35c83179f8fb821bf3b2ac95828d57b.txt? [y]es, [n]o, [A]ll, [N]one, [r]ename: y\n",
            "replace /content/custom_data/labels/391c54ae-frame986_jpg.rf.fc45b73eb3be6cadba6ecdd9f3c6996b.txt? [y]es, [n]o, [A]ll, [N]one, [r]ename: y\n",
            "replace /content/custom_data/labels/39db06e4-frame865_jpg.rf.2f48aea1bb5f76713e2a7eb1606ab48b.txt? [y]es, [n]o, [A]ll, [N]one, [r]ename: y\n",
            "replace /content/custom_data/labels/3ea5051e-frame866_jpg.rf.e1ccf52d7fe27cfe88e87119c1d15183.txt? [y]es, [n]o, [A]ll, [N]one, [r]ename: y\n",
            "replace /content/custom_data/labels/420d9002-frame877_jpg.rf.1b271459f94a3014b5bca9f69c5c6b8c.txt? [y]es, [n]o, [A]ll, [N]one, [r]ename: y\n",
            "replace /content/custom_data/labels/44fe8bc8-frame865_jpg.rf.06a0df427abb0d8414063150f37000ee.txt? [y]es, [n]o, [A]ll, [N]one, [r]ename: y\n",
            "replace /content/custom_data/labels/45a476fb-frame866_jpg.rf.d23558be8273b002b6b69355a3472a4a.txt? [y]es, [n]o, [A]ll, [N]one, [r]ename: y\n",
            "replace /content/custom_data/labels/4e182c96-frame9_jpg.rf.79f31de68384f0d371f9b812f1dd17a0.txt? [y]es, [n]o, [A]ll, [N]one, [r]ename: y\n",
            "replace /content/custom_data/labels/503c0d51-frame869_jpg.rf.f6423d017a67a01442f9b54bf5834f1c.txt? [y]es, [n]o, [A]ll, [N]one, [r]ename: y\n",
            "replace /content/custom_data/labels/5356fa8d-fish.txt? [y]es, [n]o, [A]ll, [N]one, [r]ename: y\n",
            "replace /content/custom_data/labels/53749b92-frame983_jpg.rf.3acca8277a5ed3597c307d299b9778f3.txt? [y]es, [n]o, [A]ll, [N]one, [r]ename: y\n",
            "replace /content/custom_data/labels/5ceeb226-frame874_jpg.rf.e543dd769376e55f71f412156b20530f.txt? [y]es, [n]o, [A]ll, [N]one, [r]ename: y\n",
            "replace /content/custom_data/labels/5ecfed26-frame992_jpg.rf.694fb82b1dca7da4817fdf5e10995459.txt? [y]es, [n]o, [A]ll, [N]one, [r]ename: y\n",
            "replace /content/custom_data/labels/5ef7426f-frame977_jpg.rf.40bf19e3515134afc5dcdf69672ab424.txt? [y]es, [n]o, [A]ll, [N]one, [r]ename: y\n",
            "replace /content/custom_data/labels/61659769-frame868_jpg.rf.e19a4275f2716b9f9f5f18bc00bac81a.txt? [y]es, [n]o, [A]ll, [N]one, [r]ename: y\n",
            "replace /content/custom_data/labels/6277a0a2-frame994_jpg.rf.85c6d8a1fdd6fc2baa33c2d576b716c7.txt? [y]es, [n]o, [A]ll, [N]one, [r]ename: y\n",
            "replace /content/custom_data/labels/67ad2663-frame93_jpg.rf.eaedc3a5c31e134a117e54c78f02e5b1.txt? [y]es, [n]o, [A]ll, [N]one, [r]ename: y\n",
            "replace /content/custom_data/labels/687c7899-frame983_jpg.rf.29dacf05e7ec424c023e4de2bd97dc0f.txt? [y]es, [n]o, [A]ll, [N]one, [r]ename: y\n",
            "replace /content/custom_data/labels/6aff6c22-frame990_jpg.rf.1ae1d14140b62fa523e59950d1108fe7.txt? [y]es, [n]o, [A]ll, [N]one, [r]ename: y\n",
            "replace /content/custom_data/labels/6dd86bf8-frame867_jpg.rf.a42f6733f71e75028c9f6d15418c69e2.txt? [y]es, [n]o, [A]ll, [N]one, [r]ename: y\n",
            "replace /content/custom_data/labels/71133211-frame864_jpg.rf.628eb653b3d32407a9f304dfae60f9fc.txt? [y]es, [n]o, [A]ll, [N]one, [r]ename: y\n",
            "replace /content/custom_data/labels/759ecd0a-frame981_jpg.rf.1de5a720709643601c46fda5557fb263.txt? [y]es, [n]o, [A]ll, [N]one, [r]ename: y\n",
            "replace /content/custom_data/labels/77683185-frame995_jpg.rf.f8cfb5a9f6c825e10a84de68a59ee769.txt? [y]es, [n]o, [A]ll, [N]one, [r]ename: y\n",
            "replace /content/custom_data/labels/7eb3db1c-frame979_jpg.rf.899c9b06fcd3add93ac2e85ad8267c91.txt? [y]es, [n]o, [A]ll, [N]one, [r]ename: y\n",
            "replace /content/custom_data/labels/7fb1e139-frame990_jpg.rf.86bddd9ac37346ecac2adcb8ef993f3c.txt? [y]es, [n]o, [A]ll, [N]one, [r]ename: y\n",
            "replace /content/custom_data/labels/86617365-frame991_jpg.rf.fd9031a19bd0cbba9d0fccf5d9a0a497.txt? [y]es, [n]o, [A]ll, [N]one, [r]ename: y\n",
            "replace /content/custom_data/labels/872d5fbf-frame990_jpg.rf.d66c506020876c30edf2bbd26cf01e0a.txt? [y]es, [n]o, [A]ll, [N]one, [r]ename: y\n",
            "replace /content/custom_data/labels/888e6d4f-frame989_jpg.rf.81f16d45407f5f015ba4577121c1a36e.txt? [y]es, [n]o, [A]ll, [N]one, [r]ename: y\n",
            "replace /content/custom_data/labels/8b0cc648-frame868_jpg.rf.eb8d671c01269372bc4fbcdbf4e0de3c.txt? [y]es, [n]o, [A]ll, [N]one, [r]ename: y\n",
            "replace /content/custom_data/labels/8c7bd65b-frame867_jpg.rf.8d69169b89aabe607eb1b221d173a6a1.txt? [y]es, [n]o, [A]ll, [N]one, [r]ename: y\n",
            "replace /content/custom_data/labels/8c84e9b0-Sample6_jpg.rf.4388fde3a8e6de8c3531ec7285f081fa.txt? [y]es, [n]o, [A]ll, [N]one, [r]ename: y\n",
            "replace /content/custom_data/labels/8e9c6170-frame993_jpg.rf.6150814655f5560414d6f3d52617dd23.txt? [y]es, [n]o, [A]ll, [N]one, [r]ename: y\n",
            "replace /content/custom_data/labels/8f68fc5d-frame9_jpg.rf.522ec50a14a92c0d39d60e3f0a221670.txt? [y]es, [n]o, [A]ll, [N]one, [r]ename: y\n",
            "replace /content/custom_data/labels/8ff80582-frame984_jpg.rf.f02168e7f776d934f9878e2e848f4ce8.txt? [y]es, [n]o, [A]ll, [N]one, [r]ename: y\n",
            "replace /content/custom_data/labels/93b0e6e7-frame996_jpg.rf.3070bcc02fc4bd0c2cce9e55378b7a24.txt? [y]es, [n]o, [A]ll, [N]one, [r]ename: y\n",
            "replace /content/custom_data/labels/9456055d-frame875_jpg.rf.bd06a4d4da04ea86aefc5ff1396e3880.txt? [y]es, [n]o, [A]ll, [N]one, [r]ename: y\n",
            "replace /content/custom_data/labels/947b8e62-frame871_jpg.rf.8e60ace19b58f644b25e452491eead98.txt? [y]es, [n]o, [A]ll, [N]one, [r]ename: y\n",
            "replace /content/custom_data/labels/9547dc5d-frame998_jpg.rf.c05b061e6ccd0751211d4d44add651f7.txt? [y]es, [n]o, [A]ll, [N]one, [r]ename: y\n",
            "replace /content/custom_data/labels/97b87c5d-frame988_jpg.rf.30a0f1a9c83c45dc572dbdc9787db7ab.txt? [y]es, [n]o, [A]ll, [N]one, [r]ename: y\n",
            "replace /content/custom_data/labels/97ffdd9b-frame876_jpg.rf.7a50e9c1497efb7417f122c84270dea4.txt? [y]es, [n]o, [A]ll, [N]one, [r]ename: y\n",
            "replace /content/custom_data/labels/9d43a5d3-frame993_jpg.rf.998a3dccf5e0f17d9283a6e90d4200c0.txt? [y]es, [n]o, [A]ll, [N]one, [r]ename: y\n",
            "replace /content/custom_data/labels/9eb84d05-frame9_jpg.rf.1f9ef7dd53e8338d4c711187ab692225.txt? [y]es, [n]o, [A]ll, [N]one, [r]ename: y\n",
            "replace /content/custom_data/labels/9eeb65c8-frame868_jpg.rf.c1a80bf76196d1d3023033e0383235c2.txt? [y]es, [n]o, [A]ll, [N]one, [r]ename: y\n",
            "replace /content/custom_data/labels/a0ebf2e6-frame870_jpg.rf.0228b9cc7f2213b34dbad33d4a44fa67.txt? [y]es, [n]o, [A]ll, [N]one, [r]ename: y\n",
            "replace /content/custom_data/labels/a5b1e16a-frame985_jpg.rf.ce75242a3db71326a3e1fea23fad9e00.txt? [y]es, [n]o, [A]ll, [N]one, [r]ename: y\n",
            "replace /content/custom_data/labels/a88240bc-frame971_jpg.rf.caed98dc21e6563a5313d2a9d56b708b.txt? [y]es, [n]o, [A]ll, [N]one, [r]ename: y\n",
            "replace /content/custom_data/labels/ac46a4be-frame870_jpg.rf.86e9af9445de36553aabf7562bb90422.txt? [y]es, [n]o, [A]ll, [N]one, [r]ename: y\n",
            "replace /content/custom_data/labels/adb36b93-frame975_jpg.rf.bfa1f2bf710261e6ffef1f8860bcc1f4.txt? [y]es, [n]o, [A]ll, [N]one, [r]ename: y\n",
            "replace /content/custom_data/labels/afabe1c2-frame996_jpg.rf.ff0283388a44e70a241f75b462d237ce.txt? [y]es, [n]o, [A]ll, [N]one, [r]ename: y\n",
            "replace /content/custom_data/labels/b79ddfd1-frame874_jpg.rf.f08cf998731455548f9bf4e5012d7903.txt? [y]es, [n]o, [A]ll, [N]one, [r]ename: y\n",
            "replace /content/custom_data/labels/c0b257fc-frame865_jpg.rf.135e6ff06537ae1bac8c8909bd6e9d63.txt? [y]es, [n]o, [A]ll, [N]one, [r]ename: y\n",
            "replace /content/custom_data/labels/c2120229-frame986_jpg.rf.3b088505dee6e7e443b2ce57b86819cd.txt? [y]es, [n]o, [A]ll, [N]one, [r]ename: y\n",
            "replace /content/custom_data/labels/c4797ed7-Sample4_jpg.rf.c4a0d2a72fe61c5339a21d92f8fe5309.txt? [y]es, [n]o, [A]ll, [N]one, [r]ename: y\n",
            "replace /content/custom_data/labels/c4fbc04f-frame878_jpg.rf.8dbbe2427fd319a2896ba56c358bd399.txt? [y]es, [n]o, [A]ll, [N]one, [r]ename: y\n",
            "replace /content/custom_data/labels/c729112b-frame90_jpg.rf.bfc1ee4074a3b0447251b76fc6cde0cc.txt? [y]es, [n]o, [A]ll, [N]one, [r]ename: y\n",
            "replace /content/custom_data/labels/cc65297c-frame872_jpg.rf.4f62f201579ca0e1168e63c4bdbb7eb4.txt? [y]es, [n]o, [A]ll, [N]one, [r]ename: y\n",
            "replace /content/custom_data/labels/d5c30c24-Sample1_jpg.rf.68a3d092b3df774eb6be93b18fa1957c.txt? [y]es, [n]o, [A]ll, [N]one, [r]ename: y\n",
            "replace /content/custom_data/labels/d7666d52-frame998_jpg.rf.e71f17a36197deb993b21f341e3c219b.txt? [y]es, [n]o, [A]ll, [N]one, [r]ename: y\n",
            "replace /content/custom_data/labels/d9cd861c-frame971_jpg.rf.85a40dec5aa81a6dc799127beb993271.txt? [y]es, [n]o, [A]ll, [N]one, [r]ename: y\n",
            "replace /content/custom_data/labels/df4c4dc2-frame976_jpg.rf.03d6b381a8376df52ea7c8c44d2fbe01.txt? [y]es, [n]o, [A]ll, [N]one, [r]ename: y\n",
            "replace /content/custom_data/labels/e05f676b-frame877_jpg.rf.33f298c6ef0fd607268ff1c74988ee7d.txt? [y]es, [n]o, [A]ll, [N]one, [r]ename: y\n",
            "replace /content/custom_data/labels/e364541b-frame969_jpg.rf.5c905083e00e10c7e584953f0d52f249.txt? [y]es, [n]o, [A]ll, [N]one, [r]ename: y\n",
            "replace /content/custom_data/labels/ea97409f-frame9_jpg.rf.37cba84858769037a565a9d0a72adbf0.txt? [y]es, [n]o, [A]ll, [N]one, [r]ename: y\n",
            "replace /content/custom_data/labels/eca044d5-frame99_jpg.rf.db764d4ffbb4f5da5345e0c865646a5d.txt? [y]es, [n]o, [A]ll, [N]one, [r]ename: y\n",
            "replace /content/custom_data/labels/f0f4791a-frame876_jpg.rf.0a04c983d6d165d438a0b1d537c69e0e.txt? [y]es, [n]o, [A]ll, [N]one, [r]ename: y\n",
            "replace /content/custom_data/labels/f2bd4ced-frame973_jpg.rf.e82c09295d7b92ba9e2df00aa833caa6.txt? [y]es, [n]o, [A]ll, [N]one, [r]ename: y\n",
            "replace /content/custom_data/labels/f4f82321-frame867_jpg.rf.069420dde041fdf3cdc41b7ae387e02d.txt? [y]es, [n]o, [A]ll, [N]one, [r]ename: y\n",
            "replace /content/custom_data/labels/f5df27ce-frame872_jpg.rf.50a3134b9678bdaba2ecc84e4c5034df.txt? [y]es, [n]o, [A]ll, [N]one, [r]ename: \n",
            "error:  invalid response [{ENTER}]\n",
            "replace /content/custom_data/labels/f5df27ce-frame872_jpg.rf.50a3134b9678bdaba2ecc84e4c5034df.txt? [y]es, [n]o, [A]ll, [N]one, [r]ename: y\n",
            "replace /content/custom_data/labels/f6af3de8-frame999_jpg.rf.4e90de0650a3cc26178f1102cd3c73f6.txt? [y]es, [n]o, [A]ll, [N]one, [r]ename: y\n",
            "replace /content/custom_data/labels/faf34b70-frame980_jpg.rf.e9b1a9a40acf92b4b7cb40416ea2efd4.txt? [y]es, [n]o, [A]ll, [N]one, [r]ename: y\n",
            "replace /content/custom_data/labels/fb6cb64f-frame982_jpg.rf.d59ec74afb90e7daf7657ce139c1adb7.txt? [y]es, [n]o, [A]ll, [N]one, [r]ename: y\n",
            "replace /content/custom_data/labels/fbad12e3-frame873_jpg.rf.b7904df2708cba22049937d302501f9e.txt? [y]es, [n]o, [A]ll, [N]one, [r]ename: y\n",
            "replace /content/custom_data/labels/fc4decbc-frame994_jpg.rf.40f4e0cac55b6872dc77128614e62d09.txt? [y]es, [n]o, [A]ll, [N]one, [r]ename: y\n",
            "y\n",
            "y\n"
          ]
        }
      ],
      "source": [
        "# Unzip images to a custom data folder\n",
        "!unzip -q /content/data.zip -d /content/custom_data"
      ]
    },
    {
      "cell_type": "markdown",
      "source": [
        "Ultralytics requires a particular folder structure to store training data for models. Ultralytics requires a particular folder structure to store training data for models. The root folder is named “data”. Inside, there are two main folders:\n",
        "\n",
        "*   **Train**: These are the actual images used to train the model. In one epoch of training, every image in the train set is passed into the neural network. The training algorithm adjusts the network weights to fit the data in the images.\n",
        "\n",
        "\n",
        "*   **Validation**: These images are used to check the model's performance at the end of each training epoch.\n",
        "\n",
        "In each of these folders is a “images” folder and a “labels” folder, which hold the image files and annotation files respectively."
      ],
      "metadata": {
        "id": "eoPjqW6AYebn"
      }
    },
    {
      "cell_type": "markdown",
      "source": [
        "\n",
        "I wrote a Python script that will automatically create the required folder structure and randomly move 90% of dataset to the \"train\" folder and 10% to the \"validation\" folder. Run the following code block to download and execute the scrpt."
      ],
      "metadata": {
        "id": "f2ohNAhWj41n"
      }
    },
    {
      "cell_type": "code",
      "source": [
        "!wget -O /content/train_val_split.py https://raw.githubusercontent.com/EdjeElectronics/Train-and-Deploy-YOLO-Models/refs/heads/main/utils/train_val_split.py\n",
        "\n",
        "# TO DO: Improve robustness of train_val_split.py script so it can handle nested data folders, etc\n",
        "!python train_val_split.py --datapath=\"/content/custom_data\" --train_pct=0.9"
      ],
      "metadata": {
        "id": "8X62eFTugosf"
      },
      "execution_count": null,
      "outputs": []
    },
    {
      "cell_type": "markdown",
      "source": [
        "# 3.&nbsp;Install Requirements (Ultralytics)\n",
        "\n",
        "Next, we'll install the Ultralytics library in this Google Colab instance. This Python library will be used to train the YOLO model."
      ],
      "metadata": {
        "id": "B2L2qGCJzwY9"
      }
    },
    {
      "cell_type": "code",
      "source": [
        "!pip install ultralytics"
      ],
      "metadata": {
        "id": "EMEDk5byzxY5"
      },
      "execution_count": null,
      "outputs": []
    },
    {
      "cell_type": "markdown",
      "metadata": {
        "id": "cuZoMkSFN9XG"
      },
      "source": [
        "# 4.&nbsp;Configure Training\n"
      ]
    },
    {
      "cell_type": "markdown",
      "source": [
        "There's one last step before we can run training: we need to create the Ultralytics training configuration YAML file. This file specifies the location of your train and validation data, and it also defines the model's classes. An example configuration file model is available [here](https://github.com/ultralytics/ultralytics/blob/main/ultralytics/cfg/datasets/coco128.yaml).\n",
        "\n",
        "Run the code block below to automatically generate a `data.yaml` configuration file. Make sure you have a labelmap file located at `custom_data/classes.txt`. If you used Label Studio or one of my pre-made datasets, it should already be present. If you assembled the dataset another way, you may have to manually create the `classes.txt` file (see [here](https://github.com/EdjeElectronics/Train-and-Deploy-YOLO-Models/blob/main/doc/classes.txt) for an example of how it's formatted)."
      ],
      "metadata": {
        "id": "0c5Kdh0GmQHS"
      }
    },
    {
      "cell_type": "code",
      "source": [
        "# Python function to automatically create data.yaml config file\n",
        "# 1. Reads \"classes.txt\" file to get list of class names\n",
        "# 2. Creates data dictionary with correct paths to folders, number of classes, and names of classes\n",
        "# 3. Writes data in YAML format to data.yaml\n",
        "\n",
        "import yaml\n",
        "import os\n",
        "\n",
        "def create_data_yaml(path_to_classes_txt, path_to_data_yaml):\n",
        "\n",
        "  # Read class.txt to get class names\n",
        "  if not os.path.exists(path_to_classes_txt):\n",
        "    print(f'classes.txt file not found! Please create a classes.txt labelmap and move it to {path_to_classes_txt}')\n",
        "    return\n",
        "  with open(path_to_classes_txt, 'r') as f:\n",
        "    classes = []\n",
        "    for line in f.readlines():\n",
        "      if len(line.strip()) == 0: continue\n",
        "      classes.append(line.strip())\n",
        "  number_of_classes = len(classes)\n",
        "\n",
        "  # Create data dictionary\n",
        "  data = {\n",
        "      'path': '/content/data',\n",
        "      'train': 'train/images',\n",
        "      'val': 'validation/images',\n",
        "      'nc': number_of_classes,\n",
        "      'names': classes\n",
        "  }\n",
        "\n",
        "  # Write data to YAML file\n",
        "  with open(path_to_data_yaml, 'w') as f:\n",
        "    yaml.dump(data, f, sort_keys=False)\n",
        "  print(f'Created config file at {path_to_data_yaml}')\n",
        "\n",
        "  return\n",
        "\n",
        "# Define path to classes.txt and run function\n",
        "path_to_classes_txt = '/content/custom_data/classes.txt'\n",
        "path_to_data_yaml = '/content/data.yaml'\n",
        "\n",
        "create_data_yaml(path_to_classes_txt, path_to_data_yaml)\n",
        "\n",
        "print('\\nFile contents:\\n')\n",
        "!cat /content/data.yaml"
      ],
      "metadata": {
        "id": "4letvP7X12ji",
        "outputId": "de493b53-3e73-4ff5-92b8-92113d172032",
        "colab": {
          "base_uri": "https://localhost:8080/"
        }
      },
      "execution_count": 29,
      "outputs": [
        {
          "output_type": "stream",
          "name": "stdout",
          "text": [
            "Created config file at /content/data.yaml\n",
            "\n",
            "File contents:\n",
            "\n",
            "path: /content/data\n",
            "train: train/images\n",
            "val: validation/images\n",
            "nc: 4\n",
            "names:\n",
            "- gold fish\n",
            "- orange fish\n",
            "- purple fish\n",
            "- trash\n"
          ]
        }
      ]
    },
    {
      "cell_type": "markdown",
      "metadata": {
        "id": "myP80_bnTNMi"
      },
      "source": [
        "# 5.&nbsp;Train Model"
      ]
    },
    {
      "cell_type": "markdown",
      "source": [
        "## 5.1 Training Parameters\n",
        "Now that the data is organized and the config file is created, we're ready to start training! First, there are a few important parameters to decide on. Visit my article on [Training YOLO Models Locally](https://www.ejtech.io/learn/train-yolo-models) to learn more about these parameters and how to choose them.\n",
        "\n",
        "**Model architecture & size (`model`):**\n",
        "\n",
        "There are several YOLO11 models sizes available to train, including `yolo11n.pt`, `yolo11s.pt`, `yolo11m.pt`, `yolo11l.pt`, and `yolo11xl.pt`. Larger models run slower but have higher accuracy, while smaller models run faster but have lower accuracy. I made a brief YouTube video that compares performance of different YOLO models on a Raspberry Pi 5 and a laptop with a RTX 4050 GPU, [check it out here to get a sense of their speed accuracy](https://youtu.be/_WKS4E9SmkA). If you aren't sure which model size to use, `yolo11s.pt` is a good starting point.\n",
        "\n",
        "You can also train YOLOv8 or YOLOv5 models by substituting `yolo11` for `yolov8` or `yolov5`.\n",
        "\n",
        "\n",
        "**Number of epochs (`epochs`)**\n",
        "\n",
        "In machine learning, one “epoch” is one single pass through the full training dataset. Setting the number of epochs dictates how long the model will train for. The best amount of epochs to use depends on the size of the dataset and the model architecture. If your dataset has less than 200 images, a good starting point is 60 epochs. If your dataset has more than 200 images, a good starting point is 40 epochs.\n",
        "\n",
        "\n",
        "**Resolution (`imgsz`)**\n",
        "\n",
        "Resolution has a large impact on the speed and accuracy of the model: a lower resolution model will have higher speed but less accuracy. YOLO models are typically trained and inferenced at a 640x640 resolution. However, if you want your model to run faster or know you will be working with low-resolution images, try using a lower resolution like 480x480.\n"
      ],
      "metadata": {
        "id": "DfKspYasCzC8"
      }
    },
    {
      "cell_type": "markdown",
      "source": [
        "## 5.2 Run Training!"
      ],
      "metadata": {
        "id": "V17UjYU5ZQdR"
      }
    },
    {
      "cell_type": "markdown",
      "source": [
        "Run the following code block to begin training. If you want to use a different model, number of epochs, or resolution, change `model`, `epochs`, or `imgsz`."
      ],
      "metadata": {
        "id": "nQi_hXnUVPr-"
      }
    },
    {
      "cell_type": "code",
      "execution_count": null,
      "metadata": {
        "id": "8bbpob1gTPlo",
        "outputId": "14d6ab4b-ca4d-4148-aab0-7402cc034038",
        "colab": {
          "base_uri": "https://localhost:8080/"
        }
      },
      "outputs": [
        {
          "output_type": "stream",
          "name": "stdout",
          "text": [
            "Ultralytics 8.3.160 🚀 Python-3.11.13 torch-2.6.0+cu124 CUDA:0 (Tesla T4, 15095MiB)\n",
            "\u001b[34m\u001b[1mengine/trainer: \u001b[0magnostic_nms=False, amp=True, augment=False, auto_augment=randaugment, batch=16, bgr=0.0, box=7.5, cache=False, cfg=None, classes=None, close_mosaic=10, cls=0.5, conf=None, copy_paste=0.0, copy_paste_mode=flip, cos_lr=False, cutmix=0.0, data=/content/data.yaml, degrees=0.0, deterministic=True, device=None, dfl=1.5, dnn=False, dropout=0.0, dynamic=False, embed=None, epochs=60, erasing=0.4, exist_ok=False, fliplr=0.5, flipud=0.0, format=torchscript, fraction=1.0, freeze=None, half=False, hsv_h=0.015, hsv_s=0.7, hsv_v=0.4, imgsz=640, int8=False, iou=0.7, keras=False, kobj=1.0, line_width=None, lr0=0.01, lrf=0.01, mask_ratio=4, max_det=300, mixup=0.0, mode=train, model=yolo11s.pt, momentum=0.937, mosaic=1.0, multi_scale=False, name=train5, nbs=64, nms=False, opset=None, optimize=False, optimizer=auto, overlap_mask=True, patience=100, perspective=0.0, plots=True, pose=12.0, pretrained=True, profile=False, project=None, rect=False, resume=False, retina_masks=False, save=True, save_conf=False, save_crop=False, save_dir=runs/detect/train5, save_frames=False, save_json=False, save_period=-1, save_txt=False, scale=0.5, seed=0, shear=0.0, show=False, show_boxes=True, show_conf=True, show_labels=True, simplify=True, single_cls=False, source=None, split=val, stream_buffer=False, task=detect, time=None, tracker=botsort.yaml, translate=0.1, val=True, verbose=True, vid_stride=1, visualize=False, warmup_bias_lr=0.1, warmup_epochs=3.0, warmup_momentum=0.8, weight_decay=0.0005, workers=8, workspace=None\n",
            "Overriding model.yaml nc=80 with nc=4\n",
            "\n",
            "                   from  n    params  module                                       arguments                     \n",
            "  0                  -1  1       928  ultralytics.nn.modules.conv.Conv             [3, 32, 3, 2]                 \n",
            "  1                  -1  1     18560  ultralytics.nn.modules.conv.Conv             [32, 64, 3, 2]                \n",
            "  2                  -1  1     26080  ultralytics.nn.modules.block.C3k2            [64, 128, 1, False, 0.25]     \n",
            "  3                  -1  1    147712  ultralytics.nn.modules.conv.Conv             [128, 128, 3, 2]              \n",
            "  4                  -1  1    103360  ultralytics.nn.modules.block.C3k2            [128, 256, 1, False, 0.25]    \n",
            "  5                  -1  1    590336  ultralytics.nn.modules.conv.Conv             [256, 256, 3, 2]              \n",
            "  6                  -1  1    346112  ultralytics.nn.modules.block.C3k2            [256, 256, 1, True]           \n",
            "  7                  -1  1   1180672  ultralytics.nn.modules.conv.Conv             [256, 512, 3, 2]              \n",
            "  8                  -1  1   1380352  ultralytics.nn.modules.block.C3k2            [512, 512, 1, True]           \n",
            "  9                  -1  1    656896  ultralytics.nn.modules.block.SPPF            [512, 512, 5]                 \n",
            " 10                  -1  1    990976  ultralytics.nn.modules.block.C2PSA           [512, 512, 1]                 \n",
            " 11                  -1  1         0  torch.nn.modules.upsampling.Upsample         [None, 2, 'nearest']          \n",
            " 12             [-1, 6]  1         0  ultralytics.nn.modules.conv.Concat           [1]                           \n",
            " 13                  -1  1    443776  ultralytics.nn.modules.block.C3k2            [768, 256, 1, False]          \n",
            " 14                  -1  1         0  torch.nn.modules.upsampling.Upsample         [None, 2, 'nearest']          \n",
            " 15             [-1, 4]  1         0  ultralytics.nn.modules.conv.Concat           [1]                           \n",
            " 16                  -1  1    127680  ultralytics.nn.modules.block.C3k2            [512, 128, 1, False]          \n",
            " 17                  -1  1    147712  ultralytics.nn.modules.conv.Conv             [128, 128, 3, 2]              \n",
            " 18            [-1, 13]  1         0  ultralytics.nn.modules.conv.Concat           [1]                           \n",
            " 19                  -1  1    345472  ultralytics.nn.modules.block.C3k2            [384, 256, 1, False]          \n",
            " 20                  -1  1    590336  ultralytics.nn.modules.conv.Conv             [256, 256, 3, 2]              \n",
            " 21            [-1, 10]  1         0  ultralytics.nn.modules.conv.Concat           [1]                           \n",
            " 22                  -1  1   1511424  ultralytics.nn.modules.block.C3k2            [768, 512, 1, True]           \n",
            " 23        [16, 19, 22]  1    820956  ultralytics.nn.modules.head.Detect           [4, [128, 256, 512]]          \n",
            "YOLO11s summary: 181 layers, 9,429,340 parameters, 9,429,324 gradients, 21.6 GFLOPs\n",
            "\n",
            "Transferred 493/499 items from pretrained weights\n",
            "Freezing layer 'model.23.dfl.conv.weight'\n",
            "\u001b[34m\u001b[1mAMP: \u001b[0mrunning Automatic Mixed Precision (AMP) checks...\n",
            "\u001b[34m\u001b[1mAMP: \u001b[0mchecks passed ✅\n",
            "\u001b[34m\u001b[1mtrain: \u001b[0mFast image access ✅ (ping: 0.0±0.0 ms, read: 1061.5±382.1 MB/s, size: 24.9 KB)\n",
            "\u001b[34m\u001b[1mtrain: \u001b[0mScanning /content/custom_data/labels.cache... 0 images, 5950 backgrounds, 0 corrupt: 100% 5950/5950 [00:00<?, ?it/s]\n",
            "WARNING ⚠️ Labels are missing or empty in /content/custom_data/labels.cache, training may not work correctly. See https://docs.ultralytics.com/datasets for dataset formatting guidance.\n",
            "\u001b[34m\u001b[1malbumentations: \u001b[0mBlur(p=0.01, blur_limit=(3, 7)), MedianBlur(p=0.01, blur_limit=(3, 7)), ToGray(p=0.01, method='weighted_average', num_output_channels=3), CLAHE(p=0.01, clip_limit=(1.0, 4.0), tile_grid_size=(8, 8))\n",
            "\u001b[34m\u001b[1mval: \u001b[0mFast image access ✅ (ping: 0.0±0.0 ms, read: 804.0±281.9 MB/s, size: 21.6 KB)\n",
            "\u001b[34m\u001b[1mval: \u001b[0mScanning /content/custom_data/labels.cache... 0 images, 5950 backgrounds, 0 corrupt: 100% 5950/5950 [00:00<?, ?it/s]\n",
            "WARNING ⚠️ Labels are missing or empty in /content/custom_data/labels.cache, training may not work correctly. See https://docs.ultralytics.com/datasets for dataset formatting guidance.\n",
            "Plotting labels to runs/detect/train5/labels.jpg... \n",
            "WARNING ⚠️ zero-size array to reduction operation maximum which has no identity\n",
            "\u001b[34m\u001b[1moptimizer:\u001b[0m 'optimizer=auto' found, ignoring 'lr0=0.01' and 'momentum=0.937' and determining best 'optimizer', 'lr0' and 'momentum' automatically... \n",
            "\u001b[34m\u001b[1moptimizer:\u001b[0m AdamW(lr=0.00125, momentum=0.9) with parameter groups 81 weight(decay=0.0), 88 weight(decay=0.0005), 87 bias(decay=0.0)\n",
            "Image sizes 640 train, 640 val\n",
            "Using 2 dataloader workers\n",
            "Logging results to \u001b[1mruns/detect/train5\u001b[0m\n",
            "Starting training for 60 epochs...\n",
            "\n",
            "      Epoch    GPU_mem   box_loss   cls_loss   dfl_loss  Instances       Size\n",
            "       1/60      3.87G          0       69.7          0          0        640:  85% 317/372 [01:34<00:14,  3.78it/s]"
          ]
        }
      ],
      "source": [
        "!yolo detect train data=/content/data.yaml model=yolo11s.pt epochs=60 imgsz=640"
      ]
    },
    {
      "cell_type": "markdown",
      "source": [
        "The training algorithm will parse the images in the training and validation directories and then start training the model. At the end of each training epoch, the program runs the model on the validation dataset and reports the resulting mAP, precision, and recall. As training continues, the mAP should generally increase with each epoch. Training will end once it goes through the number of epochs specified by `epochs`.\n",
        "\n",
        "> **NOTE:** Make sure to allow training to run to completion, because an optimizer runs at the end of training that strips out unneeded layers from the model.\n",
        "\n",
        "The best trained model weights will be saved in `content/runs/detect/train/weights/best.pt`. Additional information about training is saved in the `content/runs/detect/train` folder, including a `results.png` file that shows how loss, precision, recall, and mAP progressed over each epoch."
      ],
      "metadata": {
        "id": "vv0EYWJ5V6mC"
      }
    },
    {
      "cell_type": "markdown",
      "metadata": {
        "id": "vo8BJRXeg0Ap"
      },
      "source": [
        "#6.&nbsp;Test Model"
      ]
    },
    {
      "cell_type": "markdown",
      "source": [
        "The model has been trained; now it's time to test it! The commands below run the model on the images in the validation folder and then display the results for the first 10 images. This is a good way to confirm your model is working as expected. Click Play on the blocks below to see how your model performs."
      ],
      "metadata": {
        "id": "BX3PTrEPacGY"
      }
    },
    {
      "cell_type": "code",
      "execution_count": null,
      "metadata": {
        "id": "PooP5Vjsg2Jn"
      },
      "outputs": [],
      "source": [
        "!yolo detect predict model=runs/detect/train/weights/best.pt source=data/validation/images save=True"
      ]
    },
    {
      "cell_type": "code",
      "execution_count": null,
      "metadata": {
        "id": "zEEObQqoiGrs"
      },
      "outputs": [],
      "source": [
        "import glob\n",
        "from IPython.display import Image, display\n",
        "for image_path in glob.glob(f'/content/runs/detect/predict/*.jpg')[:10]:\n",
        "  display(Image(filename=image_path, height=400))\n",
        "  print('\\n')\n"
      ]
    },
    {
      "cell_type": "markdown",
      "source": [
        "The model should draw a box around each object of interest in each image. If it isn't doing a good job of detecting objects, here are a few tips:\n",
        "\n",
        "1. Double-check your dataset to make sure there are no labeling errors or conflicting examples.\n",
        "2. Increase the number of epochs used for training.\n",
        "3. Use a larger model size (e.g. `yolo11l.pt`).\n",
        "4. Add more images to the training dataset. See my [dataset video](https://www.youtube.com/watch?v=v0ssiOY6cfg) for tips on how to capture good training images and improve accuracy.\n",
        "\n",
        "You can also run the model on video files or other images images by uploading them to this notebook and using the above `!yolo detect predict` command, where `source` points to the location of the video file, image, or folder of images. The results will be saved in `runs/detect/predict`.\n",
        "\n",
        "Drawing boxes on images is great, but it isn't very useful in itself. It's also not very helpful to just run this models inside a Colab notebook: it's easier if we can just run it on a local computer. Continue to the next section to see how to download your newly trained model and run it on a local device."
      ],
      "metadata": {
        "id": "EGiQw_gWbSBa"
      }
    },
    {
      "cell_type": "markdown",
      "metadata": {
        "id": "W7yrFRViVczX"
      },
      "source": [
        "#7.&nbsp;Deploy Model"
      ]
    },
    {
      "cell_type": "markdown",
      "source": [
        "Now that your custom model has been trained, it's ready to be downloaded and deployed in an application! YOLO models can run on a wide variety of hardware, including PCs, embedded systems, and phones. Ultralytics makes it easy to convert the YOLO models to various formats (`tflite`, `onnx`, etc.) and deploy them in a variety of environments.\n",
        "\n",
        "This section shows how to download the model and provides links to instructions for deploying it on your PC and edge devices like the Raspberry Pi."
      ],
      "metadata": {
        "id": "FEtybPmB_ERi"
      }
    },
    {
      "cell_type": "markdown",
      "source": [
        "## 7.1 Download YOLO Model\n",
        "\n",
        "First, zip and download the trained model by running the code blocks below.\n",
        "\n",
        "The code creates a folder named `my_model`, moves the model weights into it, and renames them from `best.pt` to `my_model.pt`. It also adds the training results in case you want to reference them later. It then zips the folder as `my_model.zip`."
      ],
      "metadata": {
        "id": "IcoBAeHXa86W"
      }
    },
    {
      "cell_type": "code",
      "source": [
        "# Create \"my_model\" folder to store model weights and train results\n",
        "!mkdir /content/my_model\n",
        "!cp /content/runs/detect/train/weights/best.pt /content/my_model/my_model.pt\n",
        "!cp -r /content/runs/detect/train /content/my_model\n",
        "\n",
        "# Zip into \"my_model.zip\"\n",
        "%cd my_model\n",
        "!zip /content/my_model.zip my_model.pt\n",
        "!zip -r /content/my_model.zip train\n",
        "%cd /content"
      ],
      "metadata": {
        "id": "qcBdnOA9v85S"
      },
      "execution_count": null,
      "outputs": []
    },
    {
      "cell_type": "code",
      "execution_count": null,
      "metadata": {
        "id": "43ypwonynLVu"
      },
      "outputs": [],
      "source": [
        "# This takes forever for some reason, you can also just download the model from the sidebar\n",
        "from google.colab import files\n",
        "\n",
        "files.download('/content/my_model.zip')"
      ]
    },
    {
      "cell_type": "markdown",
      "source": [
        "## 7.2 Deploy YOLO Model on Local Devices\n",
        "\n",
        "Next, we'll take our downloaded model and run it on a local device. This section provides instructions showing how to deploy YOLO models on various devices.\n",
        "\n",
        "I wrote a basic Python script, `yolo_detect.py`, that shows how to load a model, run inference on an image source, parse the inference results, and display boxes around each detected class in the image. The [script](https://github.com/EdjeElectronics/Train-and-Deploy-YOLO-Models/blob/main/yolo_detect.py) gives an example of how to work with Ultralytics YOLO models in Python, and it can be used as a starting point for more advanced applications."
      ],
      "metadata": {
        "id": "YL06c6pb_UqZ"
      }
    },
    {
      "cell_type": "markdown",
      "source": [
        "### 7.2.1 Deploy on PC (Windows, Linux, or macOS)\n",
        "\n",
        "The easiest way to run Ultralytics models on a PC is using Anaconda. Anaconda sets up a virtual Python environment and allows you to easily install Ultralytics and PyTorch. It automatically installs CUDA and cuDNN, which allows you to speed up model inference with your NVIDIA GPU.\n",
        "\n",
        "> **NOTE:** My YouTube video (link to be added) shows how to deploy your model on a PC. It walks through the following steps, so watch the video if you prefer having visual instructions.\n",
        "\n",
        "**1. Download and Install Anaconda**\n",
        "\n",
        "Go to the Anaconda download page at https://anaconda.com/download, click the “skip registration” button, and then download the package for your OS. When it's finished downloading, run the installer and click through the installation steps. You can use the default options for installation.\n",
        "\n",
        "**2. Set up virtual environment**\n",
        "\n",
        "Once it's installed, run Anaconda Prompt from the Start Bar. (If you're on macOS or Linux, just open a command terminal).\n",
        "\n",
        "Issue the following commands to create a new Python environment and activate it:\n",
        "\n",
        "```\n",
        "conda create --name yolo-env1 python=3.12 -y\n",
        "conda activate yolo-env1\n",
        "```\n",
        "\n",
        "Install Ultralytics (which also installs import libraries like OpenCV-Python, Numpy, and PyTorch) by issuing the following command:\n",
        "\n",
        "```\n",
        "pip install ultralytics\n",
        "```\n",
        "\n",
        "If you have an NVIDIA GPU, you can install the GPU-enabled version of PyTorch by issuing the following command:\n",
        "\n",
        "```\n",
        "pip install --upgrade torch torchvision torchaudio --index-url https://download.pytorch.org/whl/cu124\n",
        "```\n",
        "\n",
        "**3. Extract downloaded model**\n",
        "Take the `my_model.zip` file you downloaded in Step 7.1 and unzip it to a folder on your PC. In the Anaconda Prompt terminal, move into the unzipped folder using:\n",
        "\n",
        "```\n",
        "cd path/to/folder\n",
        "```\n",
        "\n",
        "**4. Download and run yolo_detect.py**\n",
        "\n",
        "Download the `yolo_detect.py` script into the `my_model` folder using:\n",
        "\n",
        "```\n",
        "curl -o yolo_detect.py https://raw.githubusercontent.com/EdjeElectronics/Train-and-Deploy-YOLO-Models/refs/heads/main/yolo_detect.py\n",
        "```\n",
        "\n",
        "Alright! We're ready to run the script. To run inference with a yolov8s model on a USB camera at 1280x720 resolution, issue:\n",
        "\n",
        "```\n",
        "python yolo_detect.py --model my_model.pt --source usb0 --resolution 1280x720\n",
        "```\n",
        "\n",
        "A window will appear showing a live feed from your webcam with boxes drawn around detected objects in each frame.\n",
        "\n",
        "You can also run the model on an video file, image, or folder of images. To see a full list of arguments for `yolo_detect.py`, issue `python yolo_detect.py --help` or see the [README file](https://github.com/EdjeElectronics/Train-and-Deploy-YOLO-Models/blob/main/README.md).\n",
        "\n",
        "\n"
      ],
      "metadata": {
        "id": "gzaJQ2sGEPhP"
      }
    },
    {
      "cell_type": "markdown",
      "source": [
        "### 7.2.2 Deploy on Raspberry Pi\n",
        "\n",
        "Keep an eye out for an article showing how to convert YOLO models to NCNN format and run them on the Raspberry Pi!"
      ],
      "metadata": {
        "id": "GelkpRLPEYmJ"
      }
    },
    {
      "cell_type": "markdown",
      "source": [
        "# 8.&nbsp;Conclusion"
      ],
      "metadata": {
        "id": "y8fOJ4g8Q5x0"
      }
    },
    {
      "cell_type": "markdown",
      "source": [
        "Congratulations! You've successfully trained and deployed a YOLO object detection model. 😀\n",
        "\n",
        "Next, you can extend your application beyond just drawing boxes and counting objects. Add functionality like logging the number of objects detected over time or taking a picture when certain objects are detected. Check out some example applications at our GitHub repository: https://github.com/EdjeElectronics/Train-and-Deploy-YOLO-Models\n",
        "\n",
        "Thanks for working through this notebook, and good luck with your projects!"
      ],
      "metadata": {
        "id": "DEZGuG1-Peg5"
      }
    },
    {
      "cell_type": "markdown",
      "source": [
        "# Appendix: Common Errors"
      ],
      "metadata": {
        "id": "fXeDs6SaQBRy"
      }
    },
    {
      "cell_type": "markdown",
      "source": [
        "If you run into any errors working through this notebook, please do the following:\n",
        "\n",
        "\n",
        "- Double-check that the dataset files are set up in the correct folder structure\n",
        "- Make sure there are no typos or errors in your labelmap file\n",
        "- Google search the error to look for solutions\n",
        "\n",
        "If none of those help, please submit an [Issue](https://github.com/EdjeElectronics/Train-and-Deploy-YOLO-Models/issues) on the GitHub page. In this section, I will add resolutions to common errors as they come up."
      ],
      "metadata": {
        "id": "Q19ENCHRQOCH"
      }
    }
  ],
  "metadata": {
    "accelerator": "GPU",
    "colab": {
      "gpuType": "T4",
      "provenance": [],
      "include_colab_link": true
    },
    "kernelspec": {
      "display_name": "Python 3",
      "name": "python3"
    },
    "language_info": {
      "name": "python"
    }
  },
  "nbformat": 4,
  "nbformat_minor": 0
}